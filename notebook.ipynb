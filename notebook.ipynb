{
 "cells": [
  {
   "cell_type": "markdown",
   "metadata": {},
   "source": [
    "# Projet : Passive-Reflector\n",
    "\n",
    "## Edouard Yvinec et Yoann Coudert--Osmont\n",
    "\n",
    "Nous rappelons l'objectif du projet : on veut montrer numériquement que la cross-corrélation de signaux émis par des sources bruitées et enregistrées par des récepteurs peuvent servir à localiser un réflecteur.<br> Nous commençons par inclure les bibliothèques dont on aura besoin. Parmi celles-ci se trouve utils qui correspond au .py joint à ce notebook qui contient les fonctions implémentées pour résoudre numériquement le problème."
   ]
  },
  {
   "cell_type": "code",
   "execution_count": null,
   "metadata": {},
   "outputs": [],
   "source": [
    "%matplotlib inline\n",
    "\n",
    "import utils as utils\n",
    "import numpy as np\n",
    "import matplotlib.pyplot as plt\n",
    "from IPython.display import Image, display\n",
    "import warnings\n",
    "warnings.filterwarnings(\"ignore\")"
   ]
  },
  {
   "cell_type": "markdown",
   "metadata": {},
   "source": [
    "Dans le projet, on part du même modèle que celui présenté au début du cours avec une solution de l'équation d'onde\n",
    "$$ \\frac{1}{c^2(x)}\\frac{\\partial^2 u}{\\partial t^2} - \\Delta_x u = n(t,x) $$\n",
    "$n$ modélise le champs des bruits de source. Son auto-corrélation vaut\n",
    "$$ \\langle n(t_1,y_1); n(t_2,y_2)\\rangle = F(t_2-t_1)\\delta(y_1 - y_2)K(y_1) $$\n",
    "Comme dans le cours, on retrouve la fonction temps-harmonique de Green $G_0$, solution fondamentale du problème de Helmholtz :\n",
    "$$ \\frac{\\omega^2}{c^2(x)} \\hat G_0 (\\omega,x,y) + \\Delta_x \\hat G_0(\\omega,x,y) = - \\delta(x - y) $$\n",
    "Il en suit, \n",
    "$$ \\hat G(\\omega,x,y) = \\hat G_0(\\omega,x,y) + \\sigma_r \\omega^2 \\hat G_0(\\omega,x,z_r) \\hat G_0(\\omega,z_r,y)$$\n",
    "Que l'on peut interpréter comme : $\\hat G_0(\\omega,x,y)$ onde émise de $y$ et reçu en $x$ et $\\hat G_0(\\omega,x,z) \\hat G_0(\\omega,z,y)$ est l'onde émise en $y$ réfléchie en $z$ et reçu en $x$. Cette approximation est appelée approximation de Born."
   ]
  },
  {
   "cell_type": "markdown",
   "metadata": {},
   "source": [
    "Nous initialisons le problèmes avec les grandeurs que nous utiliserons tout au long de la résolution du problème. Ici $N$ désigne le nombre de sources de positions $y$, étant amenées à émettre, $x$ désigne les positions des récepteurs qui enregistrent les signaux, $c_0$ la vitesse de propagation dans le milieu et $z_r$ la position du réflecteur. La dernière constante $\\sigma_r$ sert à résoudre une approximation d'ordre 2 de $\\hat G$ détaillée précédemment."
   ]
  },
  {
   "cell_type": "code",
   "execution_count": null,
   "metadata": {},
   "outputs": [],
   "source": [
    "N = 200\n",
    "y = utils.sample_ys(N)\n",
    "x = utils.recevers_xs()\n",
    "c_0 = 1\n",
    "z_r = np.array([-5,0,65])\n",
    "sigma_r = 10**(-3)"
   ]
  },
  {
   "cell_type": "code",
   "execution_count": null,
   "metadata": {},
   "outputs": [],
   "source": [
    "plt.scatter(y[:,2], y[:,0], marker='o', color=(1, 1, 1, 0), edgecolors='r', label='y')\n",
    "plt.scatter(x[:,2], x[:,0], marker='^', color='g', label='x')\n",
    "plt.scatter(z_r[2], z_r[0], marker='d', color='b', label=r'$z_r$')\n",
    "plt.legend()\n",
    "plt.show()"
   ]
  },
  {
   "cell_type": "markdown",
   "metadata": {},
   "source": [
    "Chaque source $y_s$ émet un signal $n_s$ i.i.d. gaussien stationnaire de moyenne nulle et de covariance\n",
    "$$ \\langle n_s(t_1); n_s(t_2)\\rangle = F(t_1-t_2) $$\n",
    "Dans notre problème, $\\hat F(\\omega) = e^{-\\omega^2}$. "
   ]
  },
  {
   "cell_type": "markdown",
   "metadata": {},
   "source": [
    "----"
   ]
  },
  {
   "cell_type": "markdown",
   "metadata": {},
   "source": [
    "Dans la première partie, on étudie l'espérance de la cross-correlation $C(\\tau,x_1,x_2)$ (aussi obtenu en prenant la cross-correlation sur une durée tendant vers l'infini $T \\rightarrow +\\infty$) définit par\n",
    "$$ C(\\tau,x_1,x_2) = \\frac{1}{2\\pi}\\int \\int K(y)\\hat F(\\omega) \\overline{\\hat G(\\omega,x_1,y)} \\hat G(\\omega,x_2,y) e^{-i\\omega \\tau} dy d\\omega $$\n",
    "En prenant un nombre fini $N$ de sources on obtient l'approximation que l'on note $C_N$, définit par \n",
    "$$ C_N(\\tau,x_1,x_2) = \\frac{1}{2\\pi N}\\sum_{s =1}^N \\int \\hat F(\\omega) \\overline{\\hat G(\\omega,x_1,y)} \\hat G(\\omega,x_2,y) e^{-i\\omega \\tau} d\\omega $$"
   ]
  },
  {
   "cell_type": "markdown",
   "metadata": {},
   "source": [
    "## 1.a) \n",
    "On commence par calculer et afficher $$ \\tau \\rightarrow C_N(\\tau, x_5,x_1) $$\n",
    "pour $\\tau \\in [-200;200]$."
   ]
  },
  {
   "cell_type": "code",
   "execution_count": null,
   "metadata": {},
   "outputs": [],
   "source": [
    "tau = np.linspace(-200,200,500)\n",
    "f = utils.C_N(tau, x[4], x[0], y, c_0, z_r, sigma_r)\n",
    "plt.plot(tau, f, 'r-')\n",
    "plt.xlabel(r'$\\tau$')\n",
    "plt.ylabel(r'$C_N$')\n",
    "plt.title(r'$\\tau \\rightarrow C_N(\\tau,x_5,x_1)$')\n",
    "plt.show()"
   ]
  },
  {
   "cell_type": "markdown",
   "metadata": {},
   "source": [
    "Le pic central correspond à la corrélation des ondes arrivant directement aux récepteurs. Mais ce pic masque d'autres pics beaucoup plus faibles correspondant à corrélation d'une onde arrivant à un des récepteurs après la réflection sur $z_r$, avec une onde arrivant directement au second recepteur. Pour les voir on affiche : \n",
    "$$ \\tau \\rightarrow C_N(\\tau, x_5,x_1)1_{\\mathbb{R}\\backslash [-50;50]} $$\n",
    "sur le meme intervalle."
   ]
  },
  {
   "cell_type": "code",
   "execution_count": null,
   "metadata": {},
   "outputs": [],
   "source": [
    "f = np.concatenate([f[:200], np.zeros(100), f[-200:]])\n",
    "plt.plot(tau, f, 'r-')\n",
    "plt.xlabel(r'$\\tau$')\n",
    "plt.ylabel(r'$C_N$')\n",
    "plt.title(r'$\\tau \\rightarrow C_N(\\tau,x_5,x_1)1_{\\mathbb{R}\\backslash[-50;50]}$')\n",
    "plt.show()"
   ]
  },
  {
   "cell_type": "markdown",
   "metadata": {},
   "source": [
    "## 1.b)\n",
    "On calcule ensuite l'image KM $\\mathcal{I}_N (y^S)$ avec $y^S$ un candidat à la position du réflecteur. Cette image est alors définit par\n",
    "$$ \\mathcal{I}_N (y^S) = \\sum_{k,l =1}^5 C_N \\left( \\frac{1}{c_0} \\left( |x_k - y^S| + |x_l-y^S| \\right), x_k, x_l \\right) $$"
   ]
  },
  {
   "cell_type": "code",
   "execution_count": null,
   "metadata": {},
   "outputs": [],
   "source": [
    "w_size = 10\n",
    "dx = np.arange(2*w_size+1) - w_size\n",
    "y_S = z_r + [0, 0, 1] * dx[:,None] + [1, 0, 0] * dx[:,None,None]\n",
    "Im = utils.KM(y_S, x, y, c_0, z_r, sigma_r)\n",
    "plt.imshow(Im)\n",
    "plt.show()"
   ]
  },
  {
   "cell_type": "markdown",
   "metadata": {},
   "source": [
    "## 1.c) \n",
    "Pour l'analyse de la résolution de l'image nous avons utilisé un résultat du polycopié. En effet, section 2.3.9 : \"The resolution analysis of the Reverse-Time imaging function and the Kirch- hoff Migration imaging function goes along the same way as for passive source imaging\". Ainsi\n",
    "$$ R = \\frac{N\\max I^2}{\\|I\\|^2} $$"
   ]
  },
  {
   "cell_type": "code",
   "execution_count": null,
   "metadata": {},
   "outputs": [],
   "source": [
    "R = utils.etude_resolution(Im)\n",
    "print(\"Resolution de l'image KM de I_N : \" + str(R))"
   ]
  },
  {
   "cell_type": "markdown",
   "metadata": {},
   "source": [
    "On observe tout d'abord que le pic de l'image est plutôt bien centré. Ce pic doit nous donner la position du réflecteur qui est effectivement au centre de notre zone de recherche. La position obtenue indique alors un bon fonctionnement de la méthode. Toutefois cette position varie d'une exécution à l'autre puisque la position des sources varie. A noter que la réparition des sources doit être symétrique par rapport aux droites $(z_r, x_1)$ et $(z_r, x_5)$ pour que la localisation soit la plus précise possible.  \n",
    "\n",
    "Enfin, la résolution est relativement élevé ce qui indique une probabilité élévé de présence d'un réflecteur et donne la possibilité d'une localisation précise."
   ]
  },
  {
   "cell_type": "markdown",
   "metadata": {},
   "source": [
    "-----"
   ]
  },
  {
   "cell_type": "markdown",
   "metadata": {},
   "source": [
    "Dans ce qui suit nous allons nous intéresser à une seconde approximation de $C$ qui est une approximation de $C_N$, reposant sur le calcul de la cross-correlation empirique (sur une durée finie) $C_{T,N}$ définit par\n",
    "$$ C_{T,N}(\\tau, x_1, x_2) = \\frac{1}{T - |\\tau|} \\int_0^{T-|\\tau|} u(t,x_1)u(t+\\tau,x_2)dt $$\n",
    "avec\n",
    "$$ u(t,x) = \\frac{1}{2\\pi \\sqrt{N}}\\sum_{s=1}^N \\int \\hat G(\\omega, x, y_s) \\hat n_s(\\omega) e^{-i\\omega t} d\\omega $$"
   ]
  },
  {
   "cell_type": "markdown",
   "metadata": {},
   "source": [
    "## 2.a\n",
    "Comme précédemment, on commence par afficher\n",
    "$$ \\tau \\rightarrow C_{T,N}(\\tau, x_5,x_1) $$\n",
    "pour $\\tau \\in [-150;150]$. Mais cette fois-ci pour plusieurs valeurs de $T$."
   ]
  },
  {
   "cell_type": "code",
   "execution_count": null,
   "metadata": {
    "scrolled": false
   },
   "outputs": [],
   "source": [
    "tau = np.linspace(-150,150,300)\n",
    "T_values = [500, 2000, 8000, 32000]\n",
    "fig, axs = plt.subplots(2, 2, figsize=(15, 12))\n",
    "for i,T in enumerate(T_values):\n",
    "    plt.figure(i)\n",
    "    f = utils.C_TNm(tau, x[4], x[0], T, y, c_0, z_r, sigma_r)\n",
    "    axs[i//2, i%2].plot(tau, f, 'r-')\n",
    "    axs[i//2, i%2].set_xlabel(r'$\\tau$')\n",
    "    axs[i//2, i%2].set_title(fr'$\\tau \\rightarrow C_{{{T},N}}(\\tau,x_5,x_1)$')\n",
    "plt.tight_layout()"
   ]
  },
  {
   "cell_type": "markdown",
   "metadata": {},
   "source": [
    "Afin d'augmenter la stabilité et puisque le résultat obtenu dépend du tirage de $n_s$, on peut considérer $M$ tirages de $C_{T,N}$ i.i.d. et ainsi étudier\n",
    "$$ C_{T,N,M} = \\frac{1}{M}\\sum_{m=1}^M C_{T,N}^{(m)} $$"
   ]
  },
  {
   "cell_type": "code",
   "execution_count": null,
   "metadata": {},
   "outputs": [],
   "source": [
    "T, M = 10000, 18\n",
    "fig, axs = plt.subplots(1, 2, figsize=(15, 5))\n",
    "f = utils.C_TNM(M, tau, x[4], x[0], T, y, c_0, z_r, sigma_r)\n",
    "axs[0].plot(tau, f, 'r-')\n",
    "axs[0].set_xlabel(r'$\\tau$')\n",
    "axs[0].set_title(fr'$\\tau \\rightarrow C_{{{T},N,{M}}}(\\tau,x_5,x_1)$')\n",
    "f = utils.C_N(tau, x[4], x[0], y, c_0, z_r, sigma_r)\n",
    "axs[1].plot(tau, f, 'r-')\n",
    "axs[1].set_xlabel(r'$\\tau$')\n",
    "axs[1].set_title(r'$\\tau \\rightarrow C_N(\\tau,x_5,x_1)$')\n",
    "plt.show()"
   ]
  },
  {
   "cell_type": "markdown",
   "metadata": {},
   "source": [
    "On retrouve bien une valeur approchée de l'espérance de la cross-correlation (à droite). Cependant, sur l'ensemble $\\mathbb{R}\\backslash[-50;50]$ la nouvelle approximation est très bruitée. Les pics dus à la corrélation d'une onde direct avec une onde réfléchie sont alors indiscernables et il n'y a alors plus vraiment espoir de trouver le réflecteur. On peut aussi observé un facteur multiplicatif d'environ 1.5 entre les deux signaux. Une constante a probablement été oubliée quelque part dans le code."
   ]
  },
  {
   "cell_type": "markdown",
   "metadata": {},
   "source": [
    "On peut aussi constater que les pics dus à la corrélation entre une onde directe et une onde réfléchie sont bien calculés mais cachés par le bruit de la corrélation entre deux ondes directs. Pour cela pour le calcul de l'onde reçu en $x_1$, il suffit de prendre la fonction de Green suivante :\n",
    "$$ \\hat G(\\omega,x,y) = \\sigma_r \\omega^2 \\hat G_0(\\omega,x,z_r) \\hat G_0(\\omega,z_r,y) $$\n",
    "qui ne prend en compte que la réflexion, et pour $x_5$ on prend la fonction de Green suivante :\n",
    "$$ \\hat G(\\omega,x,y) = \\hat G_0(\\omega,x,y) $$\n",
    "qui ne prend en compte que les ondes directes. On calcule alors la corrélation en prenant ces fonctions de Green ci, puis on somme avec la corrélation obtenu en inversant les fonctions de Green entre $x_1$ et $x_5$. On obtient alors le graphique suivant :"
   ]
  },
  {
   "cell_type": "code",
   "execution_count": null,
   "metadata": {},
   "outputs": [],
   "source": [
    "T, M = 10000, 18\n",
    "fig, axs = plt.subplots(1, 2, figsize=(15, 5))\n",
    "f = utils.C_TNM(M, tau, x[4], x[0], T, y, c_0, z_r, sigma_r, non_direct=True)\n",
    "axs[0].plot(tau, f, 'r-')\n",
    "axs[0].set_xlabel(r'$\\tau$')\n",
    "axs[0].set_title(fr'$\\tau \\rightarrow C_{{{T},N,{M}}}(\\tau,x_5,x_1)$ (ondes direct + réfléchie)')\n",
    "f = utils.C_N(tau, x[4], x[0], y, c_0, z_r, sigma_r)\n",
    "f[abs(tau) < 50] = 0\n",
    "axs[1].plot(tau, f, 'r-')\n",
    "axs[1].set_xlabel(r'$\\tau$')\n",
    "axs[1].set_title(r'$\\tau \\rightarrow C_N(\\tau,x_5,x_1)1_{\\mathbb{R}\\backslash[-50;50]}$')\n",
    "plt.show()"
   ]
  },
  {
   "cell_type": "markdown",
   "metadata": {},
   "source": [
    "On observe alors à nouveau exactement les mêmes pics mais avec un peu de bruit autour. Hélas ces pics sont 5 ordres de grandeur en dessous du bruit de la corrélation entre les ondes directs et sont donc impossible à observer dans le signal total."
   ]
  },
  {
   "cell_type": "markdown",
   "metadata": {},
   "source": [
    "## 2.b\n",
    "Afin d'étudier la qualité des résultats obtenus par cette seconde approche, on calcule ensuite l'image KM $\\mathcal{I}_{T,N,M} (y^S)$ avec $y^S$ un candidat à la position du réflecteur. Cette image est alors définit par\n",
    "$$ \\mathcal{I}_{T,N,M} (y^S) = \\sum_{k,l =1}^5 C_{T,N,M}(|x_k - y^S| + |x_l-y^S|, x_k, x_l) $$"
   ]
  },
  {
   "cell_type": "code",
   "execution_count": null,
   "metadata": {
    "scrolled": true
   },
   "outputs": [],
   "source": [
    "w_size = 10\n",
    "dx = np.arange(2*w_size+1) - w_size\n",
    "y_S = z_r + [0, 0, 1] * dx[:,None] + [1, 0, 0] * dx[:,None,None]\n",
    "Im = utils.KMT(y_S, x, y, 10000, 20, c_0, z_r, sigma_r)\n",
    "plt.imshow(Im)\n",
    "plt.show()"
   ]
  },
  {
   "cell_type": "markdown",
   "metadata": {},
   "source": [
    "On obtient une image qui varie beaucoup entre plusieurs exécutions. En effet les valeurs de $\\tau$ utilisées pour calculer cette image se trouvent dans l'intervalle $[50, 115]$, où l'on observe que du bruit dépendant de l'exécution. Il faudrait donc augmenter $T$ et $M$ pour réduire ce bruit et espérer observer une image correcte mais on serait trop vite bloqué par un temps de calcul qui deviendrait beaucoup trop long. Où alors il faudrait revoir la façon de calculer l'image, la compléxité étant en :\n",
    "$$  \\mathcal{O}(T \\cdot M \\cdot (N + \\log T + n_{pixels})) $$\n",
    "où $n_{pixels}$ est le nombre de pixels dans l'image."
   ]
  },
  {
   "cell_type": "markdown",
   "metadata": {},
   "source": [
    "## 2.c\n",
    "Malgré le fait que l'image précédente ne permette pas de localiser le réflecteur, on calcule tout de même la résolution de l'image."
   ]
  },
  {
   "cell_type": "code",
   "execution_count": null,
   "metadata": {},
   "outputs": [],
   "source": [
    "R = utils.etude_resolution(Im)\n",
    "print(\"Resolution de l'image KM de I_NT: \" + str(R))"
   ]
  },
  {
   "cell_type": "markdown",
   "metadata": {},
   "source": [
    "Variant énormément d'une exécution à l'autre il est difficile d'étudier la stabilité de cette image selon $T$ et $M$."
   ]
  },
  {
   "cell_type": "code",
   "execution_count": null,
   "metadata": {},
   "outputs": [],
   "source": []
  }
 ],
 "metadata": {
  "kernelspec": {
   "display_name": "Python 3",
   "language": "python",
   "name": "python3"
  },
  "language_info": {
   "codemirror_mode": {
    "name": "ipython",
    "version": 3
   },
   "file_extension": ".py",
   "mimetype": "text/x-python",
   "name": "python",
   "nbconvert_exporter": "python",
   "pygments_lexer": "ipython3",
   "version": "3.7.1"
  }
 },
 "nbformat": 4,
 "nbformat_minor": 2
}
